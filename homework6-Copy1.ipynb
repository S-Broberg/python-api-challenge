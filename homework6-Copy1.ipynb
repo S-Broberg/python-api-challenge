{
 "cells": [
  {
   "cell_type": "code",
   "execution_count": 19,
   "metadata": {},
   "outputs": [],
   "source": [
    "# Dependencies and Setup\n",
    "import matplotlib.pyplot as plt\n",
    "import pandas as pd\n",
    "import numpy as np\n",
    "import requests\n",
    "import time\n",
    "from scipy.stats import linregress\n",
    "import json\n",
    "import csv\n",
    "\n",
    "# Import API key\n",
    "\n",
    "from pyowm import OWM\n",
    "\n",
    "owm = OWM('9a36f848b0a8e9096cf7dbd37ed429c0')\n",
    "\n",
    "\n",
    "# Incorporated citipy to determine city based on latitude and longitude\n",
    "from citipy import citipy\n",
    "\n",
    "# Output File (CSV)\n",
    "output_data_file = \"output_data/cities.csv\"\n",
    "\n",
    "# Range of latitudes and longitudes\n",
    "lat_range = (-90, 90)\n",
    "lng_range = (-180, 180)"
   ]
  },
  {
   "cell_type": "code",
   "execution_count": 22,
   "metadata": {},
   "outputs": [
    {
     "data": {
      "text/plain": [
       "605"
      ]
     },
     "execution_count": 22,
     "metadata": {},
     "output_type": "execute_result"
    }
   ],
   "source": [
    "# List for holding lat_lngs and cities\n",
    "lat_lngs = []\n",
    "cities = []\n",
    "\n",
    "# Create a set of random lat and lng combinations\n",
    "lat_range = (-90, 90)\n",
    "lng_range = (-180, 180)\n",
    "lats = np.random.uniform(lat_range[0], lat_range[1], size=1500)\n",
    "lngs = np.random.uniform(lng_range[0], lng_range[1], size=1500)\n",
    "lat_lngs = zip(lats, lngs)\n",
    "\n",
    "# Identify nearest city for each lat, lng combination\n",
    "for lat_lng in lat_lngs:\n",
    "    city = citipy.nearest_city(lat_lng[0], lat_lng[1]).city_name\n",
    "    \n",
    "    # If the city is unique, then add it to a our cities list\n",
    "    if city not in cities:\n",
    "        cities.append(city)\n",
    "\n",
    "# Print the city count to confirm sufficient count\n",
    "len(cities)"
   ]
  },
  {
   "cell_type": "code",
   "execution_count": 47,
   "metadata": {},
   "outputs": [
    {
     "name": "stdout",
     "output_type": "stream",
     "text": [
      "{'lat': 30.4898, 'lon': -99.7713, 'timezone': 'America/Chicago', 'timezone_offset': -18000, 'current': {'dt': 1616301212, 'sunrise': 1616244150, 'sunset': 1616287821, 'temp': 287.15, 'feels_like': 284.02, 'pressure': 1022, 'humidity': 44, 'dew_point': 275.1, 'uvi': 0, 'clouds': 1, 'visibility': 10000, 'wind_speed': 2.06, 'wind_deg': 190, 'weather': [{'id': 800, 'main': 'Clear', 'description': 'clear sky', 'icon': '01n'}]}, 'hourly': [{'dt': 1616299200, 'temp': 287.15, 'feels_like': 281.52, 'pressure': 1022, 'humidity': 44, 'dew_point': 275.1, 'uvi': 0, 'clouds': 1, 'visibility': 10000, 'wind_speed': 5.64, 'wind_deg': 166, 'wind_gust': 12.01, 'weather': [{'id': 800, 'main': 'Clear', 'description': 'clear sky', 'icon': '01n'}], 'pop': 0}, {'dt': 1616302800, 'temp': 286.2, 'feels_like': 280.36, 'pressure': 1022, 'humidity': 53, 'dew_point': 276.85, 'uvi': 0, 'clouds': 1, 'visibility': 10000, 'wind_speed': 6.38, 'wind_deg': 165, 'wind_gust': 12.38, 'weather': [{'id': 800, 'main': 'Clear', 'description': 'clear sky', 'icon': '01n'}], 'pop': 0}, {'dt': 1616306400, 'temp': 285.14, 'feels_like': 279.7, 'pressure': 1022, 'humidity': 60, 'dew_point': 277.63, 'uvi': 0, 'clouds': 0, 'visibility': 10000, 'wind_speed': 6.02, 'wind_deg': 166, 'wind_gust': 12.19, 'weather': [{'id': 800, 'main': 'Clear', 'description': 'clear sky', 'icon': '01n'}], 'pop': 0}, {'dt': 1616310000, 'temp': 284.3, 'feels_like': 278.9, 'pressure': 1022, 'humidity': 65, 'dew_point': 277.97, 'uvi': 0, 'clouds': 0, 'visibility': 10000, 'wind_speed': 6.05, 'wind_deg': 159, 'wind_gust': 12.36, 'weather': [{'id': 800, 'main': 'Clear', 'description': 'clear sky', 'icon': '01n'}], 'pop': 0}, {'dt': 1616313600, 'temp': 283.53, 'feels_like': 278.22, 'pressure': 1022, 'humidity': 71, 'dew_point': 278.51, 'uvi': 0, 'clouds': 0, 'visibility': 10000, 'wind_speed': 6.08, 'wind_deg': 156, 'wind_gust': 12.32, 'weather': [{'id': 800, 'main': 'Clear', 'description': 'clear sky', 'icon': '01n'}], 'pop': 0}, {'dt': 1616317200, 'temp': 282.91, 'feels_like': 277.87, 'pressure': 1021, 'humidity': 73, 'dew_point': 278.1, 'uvi': 0, 'clouds': 0, 'visibility': 10000, 'wind_speed': 5.64, 'wind_deg': 161, 'wind_gust': 12.03, 'weather': [{'id': 800, 'main': 'Clear', 'description': 'clear sky', 'icon': '01n'}], 'pop': 0}, {'dt': 1616320800, 'temp': 282.18, 'feels_like': 277.22, 'pressure': 1021, 'humidity': 76, 'dew_point': 278.05, 'uvi': 0, 'clouds': 0, 'visibility': 10000, 'wind_speed': 5.49, 'wind_deg': 171, 'wind_gust': 11.68, 'weather': [{'id': 800, 'main': 'Clear', 'description': 'clear sky', 'icon': '01n'}], 'pop': 0}, {'dt': 1616324400, 'temp': 281.77, 'feels_like': 276.96, 'pressure': 1021, 'humidity': 80, 'dew_point': 278.16, 'uvi': 0, 'clouds': 0, 'visibility': 10000, 'wind_speed': 5.37, 'wind_deg': 179, 'wind_gust': 11.65, 'weather': [{'id': 800, 'main': 'Clear', 'description': 'clear sky', 'icon': '01n'}], 'pop': 0}, {'dt': 1616328000, 'temp': 281.58, 'feels_like': 276.46, 'pressure': 1021, 'humidity': 81, 'dew_point': 278.23, 'uvi': 0, 'clouds': 0, 'visibility': 10000, 'wind_speed': 5.81, 'wind_deg': 175, 'wind_gust': 12.26, 'weather': [{'id': 800, 'main': 'Clear', 'description': 'clear sky', 'icon': '01n'}], 'pop': 0}, {'dt': 1616331600, 'temp': 281.37, 'feels_like': 276.11, 'pressure': 1021, 'humidity': 83, 'dew_point': 278.34, 'uvi': 0, 'clouds': 0, 'visibility': 10000, 'wind_speed': 6.05, 'wind_deg': 176, 'wind_gust': 13.03, 'weather': [{'id': 800, 'main': 'Clear', 'description': 'clear sky', 'icon': '01d'}], 'pop': 0}, {'dt': 1616335200, 'temp': 283.36, 'feels_like': 277.22, 'pressure': 1022, 'humidity': 74, 'dew_point': 278.64, 'uvi': 0.74, 'clouds': 0, 'visibility': 10000, 'wind_speed': 7.4, 'wind_deg': 185, 'wind_gust': 12.06, 'weather': [{'id': 800, 'main': 'Clear', 'description': 'clear sky', 'icon': '01d'}], 'pop': 0}, {'dt': 1616338800, 'temp': 285.85, 'feels_like': 279.55, 'pressure': 1022, 'humidity': 63, 'dew_point': 278.85, 'uvi': 2.28, 'clouds': 0, 'visibility': 10000, 'wind_speed': 7.64, 'wind_deg': 179, 'wind_gust': 11.33, 'weather': [{'id': 800, 'main': 'Clear', 'description': 'clear sky', 'icon': '01d'}], 'pop': 0}, {'dt': 1616342400, 'temp': 288.22, 'feels_like': 281.86, 'pressure': 1022, 'humidity': 55, 'dew_point': 279.18, 'uvi': 4.63, 'clouds': 0, 'visibility': 10000, 'wind_speed': 7.8, 'wind_deg': 179, 'wind_gust': 10.72, 'weather': [{'id': 800, 'main': 'Clear', 'description': 'clear sky', 'icon': '01d'}], 'pop': 0}, {'dt': 1616346000, 'temp': 290.31, 'feels_like': 284.12, 'pressure': 1020, 'humidity': 50, 'dew_point': 279.65, 'uvi': 7.07, 'clouds': 0, 'visibility': 10000, 'wind_speed': 7.73, 'wind_deg': 182, 'wind_gust': 10.27, 'weather': [{'id': 800, 'main': 'Clear', 'description': 'clear sky', 'icon': '01d'}], 'pop': 0}, {'dt': 1616349600, 'temp': 292.3, 'feels_like': 286.14, 'pressure': 1019, 'humidity': 46, 'dew_point': 280.35, 'uvi': 8.73, 'clouds': 0, 'visibility': 10000, 'wind_speed': 7.88, 'wind_deg': 178, 'wind_gust': 9.91, 'weather': [{'id': 800, 'main': 'Clear', 'description': 'clear sky', 'icon': '01d'}], 'pop': 0}, {'dt': 1616353200, 'temp': 293.83, 'feels_like': 287.82, 'pressure': 1018, 'humidity': 44, 'dew_point': 280.89, 'uvi': 8.99, 'clouds': 0, 'visibility': 10000, 'wind_speed': 7.92, 'wind_deg': 175, 'wind_gust': 9.6, 'weather': [{'id': 800, 'main': 'Clear', 'description': 'clear sky', 'icon': '01d'}], 'pop': 0}, {'dt': 1616356800, 'temp': 294.85, 'feels_like': 288.93, 'pressure': 1017, 'humidity': 42, 'dew_point': 281.16, 'uvi': 7.75, 'clouds': 0, 'visibility': 10000, 'wind_speed': 7.87, 'wind_deg': 173, 'wind_gust': 9.38, 'weather': [{'id': 800, 'main': 'Clear', 'description': 'clear sky', 'icon': '01d'}], 'pop': 0}, {'dt': 1616360400, 'temp': 295.33, 'feels_like': 289.32, 'pressure': 1015, 'humidity': 41, 'dew_point': 281.49, 'uvi': 5.47, 'clouds': 0, 'visibility': 10000, 'wind_speed': 8.02, 'wind_deg': 173, 'wind_gust': 9.41, 'weather': [{'id': 800, 'main': 'Clear', 'description': 'clear sky', 'icon': '01d'}], 'pop': 0}, {'dt': 1616364000, 'temp': 295.11, 'feels_like': 289.24, 'pressure': 1014, 'humidity': 42, 'dew_point': 281.64, 'uvi': 3.03, 'clouds': 0, 'visibility': 10000, 'wind_speed': 7.88, 'wind_deg': 174, 'wind_gust': 9.38, 'weather': [{'id': 800, 'main': 'Clear', 'description': 'clear sky', 'icon': '01d'}], 'pop': 0}, {'dt': 1616367600, 'temp': 294.37, 'feels_like': 288.32, 'pressure': 1014, 'humidity': 44, 'dew_point': 281.64, 'uvi': 1.15, 'clouds': 1, 'visibility': 10000, 'wind_speed': 8.14, 'wind_deg': 173, 'wind_gust': 9.75, 'weather': [{'id': 800, 'main': 'Clear', 'description': 'clear sky', 'icon': '01d'}], 'pop': 0}, {'dt': 1616371200, 'temp': 292.64, 'feels_like': 286.85, 'pressure': 1014, 'humidity': 49, 'dew_point': 281.49, 'uvi': 0.23, 'clouds': 15, 'visibility': 10000, 'wind_speed': 7.78, 'wind_deg': 169, 'wind_gust': 10.18, 'weather': [{'id': 801, 'main': 'Clouds', 'description': 'few clouds', 'icon': '02d'}], 'pop': 0}, {'dt': 1616374800, 'temp': 290.04, 'feels_like': 285.39, 'pressure': 1014, 'humidity': 56, 'dew_point': 281.09, 'uvi': 0, 'clouds': 83, 'visibility': 10000, 'wind_speed': 5.99, 'wind_deg': 163, 'wind_gust': 11.8, 'weather': [{'id': 803, 'main': 'Clouds', 'description': 'broken clouds', 'icon': '04n'}], 'pop': 0}, {'dt': 1616378400, 'temp': 288.46, 'feels_like': 284.18, 'pressure': 1015, 'humidity': 61, 'dew_point': 280.76, 'uvi': 0, 'clouds': 44, 'visibility': 10000, 'wind_speed': 5.39, 'wind_deg': 158, 'wind_gust': 12.43, 'weather': [{'id': 802, 'main': 'Clouds', 'description': 'scattered clouds', 'icon': '03n'}], 'pop': 0}, {'dt': 1616382000, 'temp': 287.84, 'feels_like': 282.99, 'pressure': 1015, 'humidity': 62, 'dew_point': 280.44, 'uvi': 0, 'clouds': 51, 'visibility': 10000, 'wind_speed': 6.09, 'wind_deg': 159, 'wind_gust': 14.07, 'weather': [{'id': 803, 'main': 'Clouds', 'description': 'broken clouds', 'icon': '04n'}], 'pop': 0}, {'dt': 1616385600, 'temp': 287.37, 'feels_like': 281.77, 'pressure': 1015, 'humidity': 65, 'dew_point': 280.68, 'uvi': 0, 'clouds': 50, 'visibility': 10000, 'wind_speed': 7.25, 'wind_deg': 160, 'wind_gust': 14.61, 'weather': [{'id': 802, 'main': 'Clouds', 'description': 'scattered clouds', 'icon': '03n'}], 'pop': 0}, {'dt': 1616389200, 'temp': 286.11, 'feels_like': 280.49, 'pressure': 1015, 'humidity': 78, 'dew_point': 282.12, 'uvi': 0, 'clouds': 41, 'visibility': 10000, 'wind_speed': 7.8, 'wind_deg': 163, 'wind_gust': 15.1, 'weather': [{'id': 802, 'main': 'Clouds', 'description': 'scattered clouds', 'icon': '03n'}], 'pop': 0}, {'dt': 1616392800, 'temp': 285.48, 'feels_like': 280.24, 'pressure': 1015, 'humidity': 80, 'dew_point': 281.92, 'uvi': 0, 'clouds': 42, 'visibility': 10000, 'wind_speed': 7.17, 'wind_deg': 169, 'wind_gust': 14.74, 'weather': [{'id': 802, 'main': 'Clouds', 'description': 'scattered clouds', 'icon': '03n'}], 'pop': 0}, {'dt': 1616396400, 'temp': 285.16, 'feels_like': 279.48, 'pressure': 1015, 'humidity': 80, 'dew_point': 281.61, 'uvi': 0, 'clouds': 75, 'visibility': 10000, 'wind_speed': 7.68, 'wind_deg': 169, 'wind_gust': 15.07, 'weather': [{'id': 803, 'main': 'Clouds', 'description': 'broken clouds', 'icon': '04n'}], 'pop': 0}, {'dt': 1616400000, 'temp': 284.75, 'feels_like': 279.37, 'pressure': 1014, 'humidity': 83, 'dew_point': 281.69, 'uvi': 0, 'clouds': 81, 'visibility': 10000, 'wind_speed': 7.3, 'wind_deg': 175, 'wind_gust': 14.39, 'weather': [{'id': 803, 'main': 'Clouds', 'description': 'broken clouds', 'icon': '04n'}], 'pop': 0}, {'dt': 1616403600, 'temp': 284.71, 'feels_like': 281.86, 'pressure': 1014, 'humidity': 85, 'dew_point': 282.04, 'uvi': 0, 'clouds': 86, 'visibility': 10000, 'wind_speed': 3.8, 'wind_deg': 205, 'wind_gust': 11.52, 'weather': [{'id': 804, 'main': 'Clouds', 'description': 'overcast clouds', 'icon': '04n'}], 'pop': 0}, {'dt': 1616407200, 'temp': 284.87, 'feels_like': 281.58, 'pressure': 1013, 'humidity': 86, 'dew_point': 282.42, 'uvi': 0, 'clouds': 89, 'visibility': 10000, 'wind_speed': 4.56, 'wind_deg': 179, 'wind_gust': 10.44, 'weather': [{'id': 804, 'main': 'Clouds', 'description': 'overcast clouds', 'icon': '04n'}], 'pop': 0}, {'dt': 1616410800, 'temp': 285.3, 'feels_like': 281.08, 'pressure': 1012, 'humidity': 86, 'dew_point': 282.77, 'uvi': 0, 'clouds': 92, 'visibility': 10000, 'wind_speed': 6.05, 'wind_deg': 180, 'wind_gust': 10.05, 'weather': [{'id': 804, 'main': 'Clouds', 'description': 'overcast clouds', 'icon': '04n'}], 'pop': 0}, {'dt': 1616414400, 'temp': 285.6, 'feels_like': 281.32, 'pressure': 1012, 'humidity': 86, 'dew_point': 283.07, 'uvi': 0, 'clouds': 93, 'visibility': 10000, 'wind_speed': 6.24, 'wind_deg': 176, 'wind_gust': 10.08, 'weather': [{'id': 804, 'main': 'Clouds', 'description': 'overcast clouds', 'icon': '04n'}], 'pop': 0}, {'dt': 1616418000, 'temp': 285.77, 'feels_like': 281, 'pressure': 1012, 'humidity': 87, 'dew_point': 283.45, 'uvi': 0, 'clouds': 100, 'visibility': 10000, 'wind_speed': 7.08, 'wind_deg': 169, 'wind_gust': 11.09, 'weather': [{'id': 804, 'main': 'Clouds', 'description': 'overcast clouds', 'icon': '04d'}], 'pop': 0}, {'dt': 1616421600, 'temp': 286.22, 'feels_like': 281.11, 'pressure': 1012, 'humidity': 87, 'dew_point': 283.87, 'uvi': 0.17, 'clouds': 100, 'visibility': 10000, 'wind_speed': 7.74, 'wind_deg': 172, 'wind_gust': 11.62, 'weather': [{'id': 804, 'main': 'Clouds', 'description': 'overcast clouds', 'icon': '04d'}], 'pop': 0}, {'dt': 1616425200, 'temp': 287.2, 'feels_like': 282.91, 'pressure': 1012, 'humidity': 85, 'dew_point': 284.4, 'uvi': 0.51, 'clouds': 100, 'visibility': 10000, 'wind_speed': 6.83, 'wind_deg': 179, 'wind_gust': 10.98, 'weather': [{'id': 804, 'main': 'Clouds', 'description': 'overcast clouds', 'icon': '04d'}], 'pop': 0}, {'dt': 1616428800, 'temp': 288.22, 'feels_like': 284.68, 'pressure': 1011, 'humidity': 81, 'dew_point': 284.66, 'uvi': 0.97, 'clouds': 100, 'visibility': 10000, 'wind_speed': 5.87, 'wind_deg': 190, 'wind_gust': 9.63, 'weather': [{'id': 804, 'main': 'Clouds', 'description': 'overcast clouds', 'icon': '04d'}], 'pop': 0.12}, {'dt': 1616432400, 'temp': 288.61, 'feels_like': 285.9, 'pressure': 1010, 'humidity': 79, 'dew_point': 284.82, 'uvi': 1.48, 'clouds': 100, 'visibility': 10000, 'wind_speed': 4.68, 'wind_deg': 195, 'wind_gust': 7.31, 'weather': [{'id': 804, 'main': 'Clouds', 'description': 'overcast clouds', 'icon': '04d'}], 'pop': 0.16}, {'dt': 1616436000, 'temp': 288.43, 'feels_like': 285.62, 'pressure': 1009, 'humidity': 82, 'dew_point': 285.02, 'uvi': 1.83, 'clouds': 100, 'visibility': 10000, 'wind_speed': 5, 'wind_deg': 183, 'wind_gust': 7.94, 'weather': [{'id': 804, 'main': 'Clouds', 'description': 'overcast clouds', 'icon': '04d'}], 'pop': 0.16}, {'dt': 1616439600, 'temp': 288.71, 'feels_like': 285.4, 'pressure': 1008, 'humidity': 81, 'dew_point': 285.18, 'uvi': 2.63, 'clouds': 100, 'visibility': 10000, 'wind_speed': 5.75, 'wind_deg': 191, 'wind_gust': 9.01, 'weather': [{'id': 804, 'main': 'Clouds', 'description': 'overcast clouds', 'icon': '04d'}], 'pop': 0.42}, {'dt': 1616443200, 'temp': 289.11, 'feels_like': 285.49, 'pressure': 1007, 'humidity': 80, 'dew_point': 285.42, 'uvi': 2.27, 'clouds': 100, 'visibility': 10000, 'wind_speed': 6.28, 'wind_deg': 192, 'wind_gust': 9.69, 'weather': [{'id': 804, 'main': 'Clouds', 'description': 'overcast clouds', 'icon': '04d'}], 'pop': 0.31}, {'dt': 1616446800, 'temp': 289.93, 'feels_like': 286.78, 'pressure': 1006, 'humidity': 77, 'dew_point': 285.67, 'uvi': 1.61, 'clouds': 100, 'visibility': 10000, 'wind_speed': 5.7, 'wind_deg': 216, 'wind_gust': 8.55, 'weather': [{'id': 804, 'main': 'Clouds', 'description': 'overcast clouds', 'icon': '04d'}], 'pop': 0.43}, {'dt': 1616450400, 'temp': 289.44, 'feels_like': 287.02, 'pressure': 1006, 'humidity': 83, 'dew_point': 286.34, 'uvi': 1.02, 'clouds': 100, 'visibility': 10000, 'wind_speed': 4.97, 'wind_deg': 213, 'wind_gust': 8.06, 'weather': [{'id': 501, 'main': 'Rain', 'description': 'moderate rain', 'icon': '10d'}], 'pop': 0.95, 'rain': {'1h': 1.36}}, {'dt': 1616454000, 'temp': 291.63, 'feels_like': 288.73, 'pressure': 1005, 'humidity': 71, 'dew_point': 286.11, 'uvi': 0.4, 'clouds': 100, 'visibility': 10000, 'wind_speed': 5.53, 'wind_deg': 203, 'wind_gust': 8.23, 'weather': [{'id': 500, 'main': 'Rain', 'description': 'light rain', 'icon': '10d'}], 'pop': 0.95, 'rain': {'1h': 0.97}}, {'dt': 1616457600, 'temp': 292.14, 'feels_like': 289.4, 'pressure': 1005, 'humidity': 68, 'dew_point': 285.8, 'uvi': 0.08, 'clouds': 83, 'visibility': 10000, 'wind_speed': 5.22, 'wind_deg': 227, 'wind_gust': 8.33, 'weather': [{'id': 803, 'main': 'Clouds', 'description': 'broken clouds', 'icon': '04d'}], 'pop': 0.75}, {'dt': 1616461200, 'temp': 289.27, 'feels_like': 287.34, 'pressure': 1005, 'humidity': 78, 'dew_point': 285.19, 'uvi': 0, 'clouds': 0, 'visibility': 10000, 'wind_speed': 3.77, 'wind_deg': 220, 'wind_gust': 4.71, 'weather': [{'id': 800, 'main': 'Clear', 'description': 'clear sky', 'icon': '01n'}], 'pop': 0.27}, {'dt': 1616464800, 'temp': 288.17, 'feels_like': 286.04, 'pressure': 1006, 'humidity': 80, 'dew_point': 284.51, 'uvi': 0, 'clouds': 0, 'visibility': 10000, 'wind_speed': 3.75, 'wind_deg': 217, 'wind_gust': 4.67, 'weather': [{'id': 800, 'main': 'Clear', 'description': 'clear sky', 'icon': '01n'}], 'pop': 0.19}, {'dt': 1616468400, 'temp': 287.32, 'feels_like': 284.91, 'pressure': 1007, 'humidity': 81, 'dew_point': 283.82, 'uvi': 0, 'clouds': 0, 'visibility': 10000, 'wind_speed': 3.89, 'wind_deg': 218, 'wind_gust': 4.78, 'weather': [{'id': 800, 'main': 'Clear', 'description': 'clear sky', 'icon': '01n'}], 'pop': 0.15}], 'daily': [{'dt': 1616263200, 'sunrise': 1616244150, 'sunset': 1616287821, 'temp': {'day': 291.96, 'min': 279.27, 'max': 295.83, 'night': 287.15, 'eve': 293.84, 'morn': 279.27}, 'feels_like': {'day': 288.39, 'night': 281.52, 'eve': 289.23, 'morn': 276.49}, 'pressure': 1026, 'humidity': 33, 'dew_point': 275.27, 'wind_speed': 2.75, 'wind_deg': 156, 'weather': [{'id': 800, 'main': 'Clear', 'description': 'clear sky', 'icon': '01d'}], 'clouds': 0, 'pop': 0, 'uvi': 8.85}, {'dt': 1616349600, 'sunrise': 1616330476, 'sunset': 1616374258, 'temp': {'day': 292.3, 'min': 281.37, 'max': 295.33, 'night': 287.37, 'eve': 292.64, 'morn': 281.58}, 'feels_like': {'day': 286.14, 'night': 281.77, 'eve': 286.85, 'morn': 276.46}, 'pressure': 1019, 'humidity': 46, 'dew_point': 280.35, 'wind_speed': 7.88, 'wind_deg': 178, 'weather': [{'id': 800, 'main': 'Clear', 'description': 'clear sky', 'icon': '01d'}], 'clouds': 0, 'pop': 0, 'uvi': 8.99}, {'dt': 1616436000, 'sunrise': 1616416801, 'sunset': 1616460695, 'temp': {'day': 288.43, 'min': 284.71, 'max': 292.14, 'night': 286.76, 'eve': 292.14, 'morn': 285.6}, 'feels_like': {'day': 285.62, 'night': 283.95, 'eve': 289.4, 'morn': 281.32}, 'pressure': 1009, 'humidity': 82, 'dew_point': 285.02, 'wind_speed': 5, 'wind_deg': 183, 'weather': [{'id': 501, 'main': 'Rain', 'description': 'moderate rain', 'icon': '10d'}], 'clouds': 100, 'pop': 0.95, 'rain': 2.33, 'uvi': 2.63}, {'dt': 1616522400, 'sunrise': 1616503126, 'sunset': 1616547132, 'temp': {'day': 297.06, 'min': 279.5, 'max': 299.19, 'night': 290.66, 'eve': 296.5, 'morn': 279.5}, 'feels_like': {'day': 291.18, 'night': 285.46, 'eve': 292.66, 'morn': 277.08}, 'pressure': 1008, 'humidity': 20, 'dew_point': 272.77, 'wind_speed': 5.47, 'wind_deg': 240, 'weather': [{'id': 800, 'main': 'Clear', 'description': 'clear sky', 'icon': '01d'}], 'clouds': 4, 'pop': 0.11, 'uvi': 7.4}, {'dt': 1616608800, 'sunrise': 1616589452, 'sunset': 1616633569, 'temp': {'day': 297.79, 'min': 286.48, 'max': 299.88, 'night': 291.8, 'eve': 297.56, 'morn': 286.48}, 'feels_like': {'day': 294.24, 'night': 286.84, 'eve': 295.3, 'morn': 286}, 'pressure': 1005, 'humidity': 33, 'dew_point': 280.55, 'wind_speed': 4.17, 'wind_deg': 264, 'weather': [{'id': 500, 'main': 'Rain', 'description': 'light rain', 'icon': '10d'}], 'clouds': 45, 'pop': 0.71, 'rain': 1.96, 'uvi': 7.25}, {'dt': 1616695200, 'sunrise': 1616675777, 'sunset': 1616720006, 'temp': {'day': 290.5, 'min': 283.67, 'max': 293.16, 'night': 286.55, 'eve': 291.8, 'morn': 283.67}, 'feels_like': {'day': 284.71, 'night': 282.34, 'eve': 287.62, 'morn': 279.64}, 'pressure': 1012, 'humidity': 47, 'dew_point': 278.88, 'wind_speed': 6.94, 'wind_deg': 336, 'weather': [{'id': 501, 'main': 'Rain', 'description': 'moderate rain', 'icon': '10d'}], 'clouds': 0, 'pop': 1, 'rain': 5.28, 'uvi': 8}, {'dt': 1616781600, 'sunrise': 1616762102, 'sunset': 1616806443, 'temp': {'day': 294.57, 'min': 282.62, 'max': 297.4, 'night': 289.72, 'eve': 295.82, 'morn': 282.99}, 'feels_like': {'day': 287.73, 'night': 286.31, 'eve': 291.87, 'morn': 278.28}, 'pressure': 1014, 'humidity': 42, 'dew_point': 281, 'wind_speed': 9.1, 'wind_deg': 199, 'weather': [{'id': 800, 'main': 'Clear', 'description': 'clear sky', 'icon': '01d'}], 'clouds': 0, 'pop': 0, 'uvi': 8}, {'dt': 1616868000, 'sunrise': 1616848428, 'sunset': 1616892879, 'temp': {'day': 296.5, 'min': 283.73, 'max': 297.96, 'night': 289.66, 'eve': 295, 'morn': 283.73}, 'feels_like': {'day': 291.72, 'night': 288.02, 'eve': 291.68, 'morn': 281.13}, 'pressure': 1015, 'humidity': 41, 'dew_point': 282.58, 'wind_speed': 6.64, 'wind_deg': 177, 'weather': [{'id': 804, 'main': 'Clouds', 'description': 'overcast clouds', 'icon': '04d'}], 'clouds': 85, 'pop': 0, 'uvi': 8}]}\n"
     ]
    }
   ],
   "source": [
    "owm = OWM('9a36f848b0a8e9096cf7dbd37ed429c0')\n",
    "target_url = ('https://api.openweathermap.org/data/2.5/onecall?lat=30.489772&lon=-99.771335&appid=9a36f848b0a8e9096cf7dbd37ed429c0').format(cities,owm)\n",
    "cityowm = requests.get(target_url).json()\n",
    "print(cityowm)\n"
   ]
  },
  {
   "cell_type": "code",
   "execution_count": 68,
   "metadata": {},
   "outputs": [
    {
     "name": "stdout",
     "output_type": "stream",
     "text": [
      "<_csv.writer object at 0x000001F9E2E81E50>\n"
     ]
    }
   ],
   "source": [
    "import csv\n",
    "c = csv.writer(open(\"cities.csv\",'w'))\n",
    "print(c)"
   ]
  },
  {
   "cell_type": "code",
   "execution_count": null,
   "metadata": {},
   "outputs": [],
   "source": []
  }
 ],
 "metadata": {
  "kernelspec": {
   "display_name": "Python [conda env:root] *",
   "language": "python",
   "name": "conda-root-py"
  },
  "language_info": {
   "codemirror_mode": {
    "name": "ipython",
    "version": 3
   },
   "file_extension": ".py",
   "mimetype": "text/x-python",
   "name": "python",
   "nbconvert_exporter": "python",
   "pygments_lexer": "ipython3",
   "version": "3.8.5"
  }
 },
 "nbformat": 4,
 "nbformat_minor": 4
}
